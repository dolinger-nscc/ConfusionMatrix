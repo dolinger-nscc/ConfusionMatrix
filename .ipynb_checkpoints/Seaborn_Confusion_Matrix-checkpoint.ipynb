{
 "cells": [
  {
   "cell_type": "code",
   "execution_count": null,
   "id": "aadddbfe",
   "metadata": {},
   "outputs": [],
   "source": [
    "import pandas as pd\n",
    "import seaborn as sns\n",
    "\n",
    "from sklearn.metrics import confusion_matrix\n",
    "import matplotlib.pyplot as plt"
   ]
  },
  {
   "cell_type": "code",
   "execution_count": null,
   "id": "37afe975",
   "metadata": {},
   "outputs": [],
   "source": [
    "res = pd.read_csv('./data/res.csv')\n",
    "res.head()"
   ]
  },
  {
   "cell_type": "code",
   "execution_count": null,
   "id": "973a3e44",
   "metadata": {},
   "outputs": [],
   "source": [
    "labs = res.Actual.unique().tolist()\n",
    "labs"
   ]
  },
  {
   "cell_type": "code",
   "execution_count": null,
   "id": "680df276",
   "metadata": {},
   "outputs": [],
   "source": [
    "cm = confusion_matrix(res.Actual, res.Predicted, labels=labs)\n",
    "cm"
   ]
  },
  {
   "cell_type": "code",
   "execution_count": null,
   "id": "4c13cf11",
   "metadata": {},
   "outputs": [],
   "source": [
    "plt.figure(figsize=(6,4))\n",
    "sns.heatmap(data=cm, annot=True, xticklabels=labs, yticklabels=labs, \n",
    "                     cbar=False, linewidths=.6, cmap=['silver', 'green'])\n",
    "plt.xlabel('y-hat')\n",
    "plt.ylabel('y')\n",
    "plt.title('Confusion Matrix')\n",
    "plt.show()"
   ]
  }
 ],
 "metadata": {
  "kernelspec": {
   "display_name": "Python 3 (ipykernel)",
   "language": "python",
   "name": "python3"
  },
  "language_info": {
   "codemirror_mode": {
    "name": "ipython",
    "version": 3
   },
   "file_extension": ".py",
   "mimetype": "text/x-python",
   "name": "python",
   "nbconvert_exporter": "python",
   "pygments_lexer": "ipython3",
   "version": "3.9.16"
  }
 },
 "nbformat": 4,
 "nbformat_minor": 5
}
